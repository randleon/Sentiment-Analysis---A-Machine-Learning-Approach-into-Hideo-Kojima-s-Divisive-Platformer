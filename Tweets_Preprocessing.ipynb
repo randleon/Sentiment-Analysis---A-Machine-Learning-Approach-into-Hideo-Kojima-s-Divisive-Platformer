{
 "cells": [
  {
   "cell_type": "code",
   "execution_count": 1,
   "metadata": {},
   "outputs": [],
   "source": [
    "import re\n",
    "import sys\n",
    "from nltk.stem.porter import PorterStemmer\n",
    "\n"
   ]
  },
  {
   "cell_type": "code",
   "execution_count": 2,
   "metadata": {},
   "outputs": [],
   "source": [
    "#PRE\n",
    "def char_rep(text):\n",
    "    # Removes all sorts of punctuation\n",
    "    text = text.strip('\\'\"?!,.():;')\n",
    "    \n",
    "    # Convert more than 2 letter repetitions to 2 letter Example binnnner to binner\n",
    "    text = re.sub(r'(.)\\1+', r'\\1\\1', text)\n",
    "   \n",
    "    # Remove - & '\n",
    "    text = re.sub(r'(-|\\')', '', text)\n",
    "    \n",
    "    #Returning the word\n",
    "    return text"
   ]
  },
  {
   "cell_type": "code",
   "execution_count": 3,
   "metadata": {},
   "outputs": [
    {
     "data": {
      "text/plain": [
       "'banaanna word girl '"
      ]
     },
     "execution_count": 3,
     "metadata": {},
     "output_type": "execute_result"
    }
   ],
   "source": [
    "char_rep(\"banaaannnnna word girl \")"
   ]
  },
  {
   "cell_type": "markdown",
   "metadata": {},
   "source": [
    "m (multi-line) when enabled ^ and $ will match the start and end of a line, instead of the whole string"
   ]
  },
  {
   "cell_type": "code",
   "execution_count": 4,
   "metadata": {},
   "outputs": [],
   "source": [
    "#PRE\n",
    "# Boolean\n",
    "def is_valid_word(word):    \n",
    "    # as long as the word begin with a letter it should be a word\n",
    "    return (re.search(r'^[a-zA-Z][a-z0-9A-Z\\._]*$', word) is not None)"
   ]
  },
  {
   "cell_type": "code",
   "execution_count": 5,
   "metadata": {},
   "outputs": [
    {
     "data": {
      "text/plain": [
       "True"
      ]
     },
     "execution_count": 5,
     "metadata": {},
     "output_type": "execute_result"
    }
   ],
   "source": [
    "is_valid_word(\"on1\")"
   ]
  },
  {
   "cell_type": "code",
   "execution_count": 6,
   "metadata": {},
   "outputs": [],
   "source": [
    "\n",
    "def handle_emojis(text):\n",
    "    \n",
    "    '''\n",
    "        Smile: :), : ), :-), (:, ( :, (-:, :') 😺|😇|🙂|☺|😋|😊|😄|😃|😁|😀|😊\n",
    "        Laugh: :D, : D, :-D, xD, x-D, XD, X-D\n",
    "        Love: <3 , Ɛ> 🖤|❤|🤩|🥰|😍|🤤|😙\n",
    "        Wink: ;-), ;), ;-D, ;D, (;,  (-;\n",
    "        sad: :-(, : (, :(, ):, )-: 💔\n",
    "        Crying:  :,(, :'(, :\"(\n",
    "    \n",
    "    '''\n",
    "    \n",
    "    #Smiling is designated as positive\n",
    "    text = re.sub(r'😺|😇|🙂|☺|😋|😊|😄|😃|😁|😀|😊|(:\\s?\\)|:-\\)|\\(\\s?:|\\(-:|:\\'\\))', ' Positive_emoj ', text)\n",
    "    \n",
    "    #laughing is designated as positive\n",
    "    text = re.sub(r'😆|🤣|😂|(:\\s?D|:-D|x-?D|X-?D)', ' Positive_emoj ', text)\n",
    "    \n",
    "    # Love is designated as positive\n",
    "    text = re.sub(r'Ɛ>|<3|🖤|❤|🤩|🥰|😍|🤤|😙', ' Positive_emoj ', text)\n",
    "    \n",
    "    # Wink is designated as positive\n",
    "    text = re.sub(r'👏|👍|💪|👌|(;-?\\)|;-?D|\\(-?;)|😉|😘|😜', ' Positive_emoj ', text)\n",
    "    \n",
    "    # Sad is designated as negative\n",
    "    text = re.sub(r'👎|😩|😩|😢|😞|😖|🙁|☹|😕|😔|😓|😒|😫|😪|🤐|😥|😣|😶|💔|(:\\s?\\(|:-\\(|\\)\\s?:|\\)-:)', ' negative_emoj ', text)\n",
    "    \n",
    "    # Cry is designated as negative\n",
    "    text = re.sub(r'😪|😢|😿|😥|(:,\\(|:\\'\\(|:\"\\()', ' negative_emoj ', text)\n",
    "    \n",
    "    return text"
   ]
  },
  {
   "cell_type": "code",
   "execution_count": 7,
   "metadata": {},
   "outputs": [
    {
     "data": {
      "text/plain": [
       "'caffiene  Positive_emoj   Positive_emoj   negative_emoj '"
      ]
     },
     "execution_count": 7,
     "metadata": {},
     "output_type": "execute_result"
    }
   ],
   "source": [
    "handle_emojis(\"caffiene :D 😊 😢\")"
   ]
  },
  {
   "cell_type": "code",
   "execution_count": 8,
   "metadata": {},
   "outputs": [],
   "source": [
    "def change_to_url(text):\n",
    "    text= re.sub(r'((www\\.[\\S]+)|(https?://[\\S]+))', ' URL ', text)\n",
    "    return text\n",
    "    "
   ]
  },
  {
   "cell_type": "code",
   "execution_count": 9,
   "metadata": {},
   "outputs": [],
   "source": [
    "def handle_to_user(text):\n",
    "    text= re.sub(r'@[\\S]+', 'USER', text)\n",
    "    return text\n",
    "    "
   ]
  },
  {
   "cell_type": "code",
   "execution_count": 10,
   "metadata": {},
   "outputs": [],
   "source": [
    "def hashtag_to_hash(text):\n",
    "    text=re.sub(r'#(\\S+)', r' \\1 ', text)\n",
    "    return text"
   ]
  },
  {
   "cell_type": "code",
   "execution_count": 11,
   "metadata": {},
   "outputs": [
    {
     "data": {
      "text/plain": [
       "' omar '"
      ]
     },
     "execution_count": 11,
     "metadata": {},
     "output_type": "execute_result"
    }
   ],
   "source": [
    "hashtag_to_hash(\"#omar\")"
   ]
  },
  {
   "cell_type": "code",
   "execution_count": 12,
   "metadata": {},
   "outputs": [],
   "source": [
    "def remove_retweet(text):\n",
    "    text = re.sub(r'\\brt\\b','', text)\n",
    "    return text\n",
    "    "
   ]
  },
  {
   "cell_type": "code",
   "execution_count": 13,
   "metadata": {},
   "outputs": [],
   "source": [
    "def replace_dots_space(text):\n",
    "    re.sub(r'\\.{2,}',' ', text)\n",
    "    return text"
   ]
  },
  {
   "cell_type": "code",
   "execution_count": 14,
   "metadata": {},
   "outputs": [],
   "source": [
    "def remove_space(text):\n",
    "    text=text.strip(' \"\\'')\n",
    "    return text"
   ]
  },
  {
   "cell_type": "code",
   "execution_count": 15,
   "metadata": {},
   "outputs": [],
   "source": [
    "def to_singlespace(text):\n",
    "    text= re.sub(r'\\s+', ' ', text)\n",
    "    return text"
   ]
  },
  {
   "cell_type": "code",
   "execution_count": 16,
   "metadata": {},
   "outputs": [
    {
     "data": {
      "text/plain": [
       "'Mr popo is cooool '"
      ]
     },
     "execution_count": 16,
     "metadata": {},
     "output_type": "execute_result"
    }
   ],
   "source": [
    "to_singlespace(\"Mr popo      is cooool     \")"
   ]
  },
  {
   "cell_type": "code",
   "execution_count": 17,
   "metadata": {},
   "outputs": [],
   "source": [
    "def root_wording(words):\n",
    "    porter_stemmer = PorterStemmer()\n",
    "    for word in words:\n",
    "        word = char_rep(word)\n",
    "        if is_valid_word(word):\n",
    "            word = str(porter_stemmer.stem(word))\n",
    "            processed_tweet.append(word)\n",
    "\n",
    "    return ' '.join(processed_tweet)\n",
    "    \n",
    "    "
   ]
  },
  {
   "cell_type": "code",
   "execution_count": 18,
   "metadata": {},
   "outputs": [],
   "source": [
    "def preprocess_tweet(tweet):\n",
    "    \n",
    "    #instansiating an object\n",
    "    \n",
    "    processed_tweet = []\n",
    "    \n",
    "    # Change to lower case\n",
    "    tweet = tweet.lower()\n",
    "    \n",
    "    # Substitue URLs with the word URL\n",
    "    tweet = change_to_url(tweet)\n",
    "    \n",
    "    # Substitue handle with the word USER\n",
    "    tweet = handle_to_user(tweet)\n",
    "    \n",
    "    # Substitue #hashtag with hashtag\n",
    "    tweet = hashtag_to_hash(tweet)\n",
    "    \n",
    "    # Substitue RT (retweet)\n",
    "    tweet = remove_retweet(tweet)\n",
    "    \n",
    "    # Substitue 2+ dots with space\n",
    "    tweet = replace_dots_space(tweet)\n",
    "    \n",
    "    # Strip space, \" and ' from tweet\n",
    "    tweet = remove_space(tweet)\n",
    "    \n",
    "    # Substitue emojis with either EMO_POS or EMO_NEG\n",
    "    tweet = handle_emojis(tweet)\n",
    "    \n",
    "    # Substitue multiple spaces with a single space\n",
    "    tweet = to_singlespace(tweet)\n",
    "    \n",
    "    #Split the tweet text into multiple words\n",
    "    words = tweet.split()\n",
    "\n",
    "    # loop through the new text\n",
    "    porter_stemmer = PorterStemmer()\n",
    "    \n",
    "    for word in words:\n",
    "        word = char_rep(word)\n",
    "        if is_valid_word(word):\n",
    "            \n",
    "            #word = str(porter_stemmer.stem(word))\n",
    "            processed_tweet.append(word)\n",
    "\n",
    "    return ' '.join(processed_tweet)"
   ]
  },
  {
   "cell_type": "code",
   "execution_count": null,
   "metadata": {},
   "outputs": [],
   "source": []
  },
  {
   "cell_type": "code",
   "execution_count": null,
   "metadata": {},
   "outputs": [],
   "source": []
  },
  {
   "cell_type": "code",
   "execution_count": null,
   "metadata": {},
   "outputs": [],
   "source": []
  },
  {
   "cell_type": "code",
   "execution_count": null,
   "metadata": {},
   "outputs": [],
   "source": []
  },
  {
   "cell_type": "code",
   "execution_count": null,
   "metadata": {},
   "outputs": [],
   "source": []
  }
 ],
 "metadata": {
  "kernelspec": {
   "display_name": "Python 3",
   "language": "python",
   "name": "python3"
  },
  "language_info": {
   "codemirror_mode": {
    "name": "ipython",
    "version": 3
   },
   "file_extension": ".py",
   "mimetype": "text/x-python",
   "name": "python",
   "nbconvert_exporter": "python",
   "pygments_lexer": "ipython3",
   "version": "3.7.3"
  }
 },
 "nbformat": 4,
 "nbformat_minor": 2
}
